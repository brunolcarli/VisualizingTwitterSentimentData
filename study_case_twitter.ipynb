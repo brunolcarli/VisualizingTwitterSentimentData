{
 "cells": [
  {
   "cell_type": "markdown",
   "metadata": {},
   "source": [
    "<center>\n",
    "    <h1> Estudo de Caso </h1>\n",
    "    <h2> Investigando sentimento extraído de publicações do Twitter com suporte do serviço LISA </h2>\n",
    "    <h3> Bruno Luvizotto Carli </h3>\n",
    "    <h4> brunolcarli@gmail.com </h4>\n",
    "</center>\n",
    "\n",
    "## Introdução\n",
    "\n",
    "O presente estudo de caso pretende coletar dados de texto através da API do Twitter com a biblioteca python `tweepy` (ROESSLEIN, 2020), processá-los utilizando a API de processamento de linguagem natural `LISA` (CARLI, 2020) e apresentar os dados em gráficos gerados através das bibliotecas `pandas` (MCKINNEY, 2010) e `matplotlib` (HUNTER, 2007). O trabalho é parte integrante do artigo desenvolvido para o trabalho de conclusão de curso do curso de Engenharia de Software, na universidade Unicesumar.\n",
    "\n",
    "Este estudo foi realizado na data do dia `14/05/2020` às `18:00`. O mesmo procedimento aplicado em outra data e horário poderá implicar em diferentes resultados obtidos após o processamente, em decorrência da obtenção de novos e diferentes dados vindos do Twitter.\n",
    "\n",
    "\n",
    "## Metodologia\n",
    "\n",
    "Como critério de busca dos textos serão utilizadas três palávras-chave para realizar as buscas:\n",
    "\n",
    "- Unicesumar\n",
    "- Faculdade\n",
    "- TCC\n",
    "\n",
    "O `tweepy` permite recuperar 100 amostras de tweets em uma requisição de busca, portanto este será o total de amostras coletadas para cada um dos termos da busca.\n",
    "\n",
    "### Procedimentos\n",
    "\n",
    "- **Etapa 1**:\n",
    "    + Coletar dados para palávra-chave **Unicesumar**:\n",
    "        - Coletar os dados no twitter;\n",
    "        - Processar os dados na LISA;\n",
    "    + Coletar dados para palávra-chave **Faculdade**:\n",
    "        - Coletar os dados no twitter;\n",
    "        - Processar os dados na LISA;\n",
    "    + Coletar dados para palávra-chave **TCC**:\n",
    "        - Coletar os dados no twitter;\n",
    "        - Processar os dados na LISA;\n",
    "- **Etapa 2**:\n",
    "    + Unificar os dados em tabelas indexadas;\n",
    "        - Criar dataframes que contenham as colunas e linhas pertinentes para análise comparativa;\n",
    "    + Plotagem dos dados em gráficos de visualização"
   ]
  },
  {
   "cell_type": "markdown",
   "metadata": {},
   "source": [
    "### Bibliotecas\n",
    "\n",
    "As bibliotecas abaixo serão necessárias:"
   ]
  },
  {
   "cell_type": "code",
   "execution_count": 74,
   "metadata": {},
   "outputs": [],
   "source": [
    "import json, requests\n",
    "import tweepy\n",
    "import matplotlib.pyplot as plt\n",
    "import pandas as pd"
   ]
  },
  {
   "cell_type": "markdown",
   "metadata": {},
   "source": [
    "### Autenticação na API do Twitter\n",
    "\n",
    "Para ter acesso à API do twitter para coletar os dados é necessário um cadastro na página de desenvolvedores do twitter: https://developer.twitter.com/en\n",
    "\n",
    "Após realizado oc adastro é ncessário criar uma aplicação para ter acesso aos tokens de acesso, que deverão ser atribuídos às varáives abaixo:"
   ]
  },
  {
   "cell_type": "code",
   "execution_count": 2,
   "metadata": {},
   "outputs": [],
   "source": [
    "consumer_key = \"\"\n",
    "consumer_secret = \"\"\n",
    "access_token_secret = \"\"\n",
    "access_token = \"\""
   ]
  },
  {
   "cell_type": "markdown",
   "metadata": {},
   "source": [
    "- Com as chaves de acesso definidas é possível através do `tweepy` conectar-se à API do Twitter:"
   ]
  },
  {
   "cell_type": "code",
   "execution_count": 3,
   "metadata": {},
   "outputs": [],
   "source": [
    "auth = tweepy.OAuthHandler(consumer_key, consumer_secret)\n",
    "auth.set_access_token(access_token, access_token_secret)\n",
    "api = tweepy.API(auth)"
   ]
  },
  {
   "cell_type": "markdown",
   "metadata": {},
   "source": [
    "- Definimos a `URL` contendo o *endpoint* para acesso ao backend **LISA**. Os dados serão enviados para este endereço para serem processados pela plataforma de processamento de linguagem natural através da *WEB* e retornando o resultado do processamento:"
   ]
  },
  {
   "cell_type": "code",
   "execution_count": 4,
   "metadata": {},
   "outputs": [],
   "source": [
    "URL = 'https://lisa--brunolcarli.repl.co/graphql/'"
   ]
  },
  {
   "cell_type": "markdown",
   "metadata": {},
   "source": [
    "# Coletando os dados\n",
    "\n",
    "Com as devidas configurações ajustadas, o próximo passo é coletar os dados. O procedimento requer a coleta e processamento dos dados a partir das palávras-chave definidas como critério de busca para o estudo.\n",
    "\n",
    "## Etapa 1\n",
    "\n",
    "### Coletar dados para o termo Unicesumar"
   ]
  },
  {
   "cell_type": "code",
   "execution_count": 62,
   "metadata": {},
   "outputs": [],
   "source": [
    "# Solicita 100 tweets para o Twitter (100 é o máximo permitido pelo tweepy) buscando por Unicesumar\n",
    "response = api.search('Unicesumar', count=100)\n",
    "\n",
    "# Separa em uma lista somente o texto dos tweets\n",
    "tweets = [tweet.text.encode('utf-8').decode('utf-8') for tweet in response]\n",
    "\n",
    "# Define a consulta para LISA contendo os textos recebidos do twitter como entrada\n",
    "data = f'''\n",
    "query{{\n",
    "  sentimentBatchExtraction(textList: {json.dumps(tweets)}){{\n",
    "    count\n",
    "    positiveOccurrencesCount\n",
    "    neutralOccurrencesCount\n",
    "    negativeOccurrencesCount\n",
    "    positivePercentage\n",
    "    neutralPercentage\n",
    "    negativePercentage\n",
    "    totalSentiment\n",
    "    meanSentiment\n",
    "  }}\n",
    "}}\n",
    "'''\n",
    "\n",
    "# Envia a cosulta para LISA\n",
    "request = requests.post(URL, json={'query': data})\n",
    "\n",
    "# Carrega a resposta como JSON\n",
    "output = json.loads(request.text)\n",
    "values = output['data']['sentimentBatchExtraction']"
   ]
  },
  {
   "cell_type": "code",
   "execution_count": 63,
   "metadata": {},
   "outputs": [
    {
     "data": {
      "text/html": [
       "<div>\n",
       "<style scoped>\n",
       "    .dataframe tbody tr th:only-of-type {\n",
       "        vertical-align: middle;\n",
       "    }\n",
       "\n",
       "    .dataframe tbody tr th {\n",
       "        vertical-align: top;\n",
       "    }\n",
       "\n",
       "    .dataframe thead th {\n",
       "        text-align: right;\n",
       "    }\n",
       "</style>\n",
       "<table border=\"1\" class=\"dataframe\">\n",
       "  <thead>\n",
       "    <tr style=\"text-align: right;\">\n",
       "      <th></th>\n",
       "      <th>Unicesumar</th>\n",
       "    </tr>\n",
       "  </thead>\n",
       "  <tbody>\n",
       "    <tr>\n",
       "      <th>count</th>\n",
       "      <td>100.000000</td>\n",
       "    </tr>\n",
       "    <tr>\n",
       "      <th>positiveOccurrencesCount</th>\n",
       "      <td>16.000000</td>\n",
       "    </tr>\n",
       "    <tr>\n",
       "      <th>neutralOccurrencesCount</th>\n",
       "      <td>40.000000</td>\n",
       "    </tr>\n",
       "    <tr>\n",
       "      <th>negativeOccurrencesCount</th>\n",
       "      <td>44.000000</td>\n",
       "    </tr>\n",
       "    <tr>\n",
       "      <th>positivePercentage</th>\n",
       "      <td>0.160000</td>\n",
       "    </tr>\n",
       "    <tr>\n",
       "      <th>neutralPercentage</th>\n",
       "      <td>0.400000</td>\n",
       "    </tr>\n",
       "    <tr>\n",
       "      <th>negativePercentage</th>\n",
       "      <td>0.440000</td>\n",
       "    </tr>\n",
       "    <tr>\n",
       "      <th>totalSentiment</th>\n",
       "      <td>-6.528261</td>\n",
       "    </tr>\n",
       "    <tr>\n",
       "      <th>meanSentiment</th>\n",
       "      <td>-2.176087</td>\n",
       "    </tr>\n",
       "  </tbody>\n",
       "</table>\n",
       "</div>"
      ],
      "text/plain": [
       "                          Unicesumar\n",
       "count                     100.000000\n",
       "positiveOccurrencesCount   16.000000\n",
       "neutralOccurrencesCount    40.000000\n",
       "negativeOccurrencesCount   44.000000\n",
       "positivePercentage          0.160000\n",
       "neutralPercentage           0.400000\n",
       "negativePercentage          0.440000\n",
       "totalSentiment             -6.528261\n",
       "meanSentiment              -2.176087"
      ]
     },
     "execution_count": 63,
     "metadata": {},
     "output_type": "execute_result"
    }
   ],
   "source": [
    "# guarda o resultado em um dataframa Pandas\n",
    "unicesumar_df = pd.DataFrame.from_dict(values, orient='index', columns=['Unicesumar'])\n",
    "\n",
    "# Exibe os dados processados\n",
    "unicesumar_df"
   ]
  },
  {
   "cell_type": "markdown",
   "metadata": {},
   "source": [
    "### Coletar dados para o termo Faculdade"
   ]
  },
  {
   "cell_type": "code",
   "execution_count": 64,
   "metadata": {},
   "outputs": [],
   "source": [
    "# Solicita 100 tweets para o Twitter (100 é o máximo permitido pelo tweepy) buscando por Faculdade\n",
    "response = api.search('Faculdade', count=100)\n",
    "\n",
    "# Separa em uma lista somente o texto dos tweets\n",
    "tweets = [tweet.text.encode('utf-8').decode('utf-8') for tweet in response]\n",
    "\n",
    "# Define a consulta para LISA contendo os textos recebidos do twitter como entrada\n",
    "data = f'''\n",
    "query{{\n",
    "  sentimentBatchExtraction(textList: {json.dumps(tweets)}){{\n",
    "    count\n",
    "    positiveOccurrencesCount\n",
    "    neutralOccurrencesCount\n",
    "    negativeOccurrencesCount\n",
    "    positivePercentage\n",
    "    neutralPercentage\n",
    "    negativePercentage\n",
    "    totalSentiment\n",
    "    meanSentiment\n",
    "  }}\n",
    "}}\n",
    "'''\n",
    "\n",
    "# Envia a cosulta para LISA\n",
    "request = requests.post(URL, json={'query': data})\n",
    "\n",
    "# Carrega a resposta como JSON\n",
    "output = json.loads(request.text)\n",
    "values = output['data']['sentimentBatchExtraction']"
   ]
  },
  {
   "cell_type": "code",
   "execution_count": 65,
   "metadata": {},
   "outputs": [
    {
     "data": {
      "text/html": [
       "<div>\n",
       "<style scoped>\n",
       "    .dataframe tbody tr th:only-of-type {\n",
       "        vertical-align: middle;\n",
       "    }\n",
       "\n",
       "    .dataframe tbody tr th {\n",
       "        vertical-align: top;\n",
       "    }\n",
       "\n",
       "    .dataframe thead th {\n",
       "        text-align: right;\n",
       "    }\n",
       "</style>\n",
       "<table border=\"1\" class=\"dataframe\">\n",
       "  <thead>\n",
       "    <tr style=\"text-align: right;\">\n",
       "      <th></th>\n",
       "      <th>Faculdade</th>\n",
       "    </tr>\n",
       "  </thead>\n",
       "  <tbody>\n",
       "    <tr>\n",
       "      <th>count</th>\n",
       "      <td>100.000000</td>\n",
       "    </tr>\n",
       "    <tr>\n",
       "      <th>positiveOccurrencesCount</th>\n",
       "      <td>33.000000</td>\n",
       "    </tr>\n",
       "    <tr>\n",
       "      <th>neutralOccurrencesCount</th>\n",
       "      <td>41.000000</td>\n",
       "    </tr>\n",
       "    <tr>\n",
       "      <th>negativeOccurrencesCount</th>\n",
       "      <td>26.000000</td>\n",
       "    </tr>\n",
       "    <tr>\n",
       "      <th>positivePercentage</th>\n",
       "      <td>0.330000</td>\n",
       "    </tr>\n",
       "    <tr>\n",
       "      <th>neutralPercentage</th>\n",
       "      <td>0.410000</td>\n",
       "    </tr>\n",
       "    <tr>\n",
       "      <th>negativePercentage</th>\n",
       "      <td>0.260000</td>\n",
       "    </tr>\n",
       "    <tr>\n",
       "      <th>totalSentiment</th>\n",
       "      <td>-0.079009</td>\n",
       "    </tr>\n",
       "    <tr>\n",
       "      <th>meanSentiment</th>\n",
       "      <td>-0.026336</td>\n",
       "    </tr>\n",
       "  </tbody>\n",
       "</table>\n",
       "</div>"
      ],
      "text/plain": [
       "                           Faculdade\n",
       "count                     100.000000\n",
       "positiveOccurrencesCount   33.000000\n",
       "neutralOccurrencesCount    41.000000\n",
       "negativeOccurrencesCount   26.000000\n",
       "positivePercentage          0.330000\n",
       "neutralPercentage           0.410000\n",
       "negativePercentage          0.260000\n",
       "totalSentiment             -0.079009\n",
       "meanSentiment              -0.026336"
      ]
     },
     "execution_count": 65,
     "metadata": {},
     "output_type": "execute_result"
    }
   ],
   "source": [
    "# guarda o resultado em um dataframa Pandas\n",
    "faculdade_df = pd.DataFrame.from_dict(values, orient='index', columns=['Faculdade'])\n",
    "\n",
    "# Exibe os dados processados\n",
    "faculdade_df"
   ]
  },
  {
   "cell_type": "markdown",
   "metadata": {},
   "source": [
    "### Coletar dados para o termo TCC"
   ]
  },
  {
   "cell_type": "code",
   "execution_count": 66,
   "metadata": {},
   "outputs": [],
   "source": [
    "# Solicita 100 tweets para o Twitter (100 é o máximo permitido pelo tweepy) buscando por TCC\n",
    "response = api.search('TCC', count=100)\n",
    "\n",
    "# Separa em uma lista somente o texto dos tweets\n",
    "tweets = [tweet.text.encode('utf-8').decode('utf-8') for tweet in response]\n",
    "\n",
    "# Define a consulta para LISA contendo os textos recebidos do twitter como entrada\n",
    "data = f'''\n",
    "query{{\n",
    "  sentimentBatchExtraction(textList: {json.dumps(tweets)}){{\n",
    "    count\n",
    "    positiveOccurrencesCount\n",
    "    neutralOccurrencesCount\n",
    "    negativeOccurrencesCount\n",
    "    positivePercentage\n",
    "    neutralPercentage\n",
    "    negativePercentage\n",
    "    totalSentiment\n",
    "    meanSentiment\n",
    "  }}\n",
    "}}\n",
    "'''\n",
    "\n",
    "# Envia a cosulta para LISA\n",
    "request = requests.post(URL, json={'query': data})\n",
    "\n",
    "# Carrega a resposta como JSON\n",
    "output = json.loads(request.text)\n",
    "values = output['data']['sentimentBatchExtraction']"
   ]
  },
  {
   "cell_type": "code",
   "execution_count": 67,
   "metadata": {},
   "outputs": [
    {
     "data": {
      "text/html": [
       "<div>\n",
       "<style scoped>\n",
       "    .dataframe tbody tr th:only-of-type {\n",
       "        vertical-align: middle;\n",
       "    }\n",
       "\n",
       "    .dataframe tbody tr th {\n",
       "        vertical-align: top;\n",
       "    }\n",
       "\n",
       "    .dataframe thead th {\n",
       "        text-align: right;\n",
       "    }\n",
       "</style>\n",
       "<table border=\"1\" class=\"dataframe\">\n",
       "  <thead>\n",
       "    <tr style=\"text-align: right;\">\n",
       "      <th></th>\n",
       "      <th>TCC</th>\n",
       "    </tr>\n",
       "  </thead>\n",
       "  <tbody>\n",
       "    <tr>\n",
       "      <th>count</th>\n",
       "      <td>100.000000</td>\n",
       "    </tr>\n",
       "    <tr>\n",
       "      <th>positiveOccurrencesCount</th>\n",
       "      <td>11.000000</td>\n",
       "    </tr>\n",
       "    <tr>\n",
       "      <th>neutralOccurrencesCount</th>\n",
       "      <td>25.000000</td>\n",
       "    </tr>\n",
       "    <tr>\n",
       "      <th>negativeOccurrencesCount</th>\n",
       "      <td>64.000000</td>\n",
       "    </tr>\n",
       "    <tr>\n",
       "      <th>positivePercentage</th>\n",
       "      <td>0.110000</td>\n",
       "    </tr>\n",
       "    <tr>\n",
       "      <th>neutralPercentage</th>\n",
       "      <td>0.250000</td>\n",
       "    </tr>\n",
       "    <tr>\n",
       "      <th>negativePercentage</th>\n",
       "      <td>0.640000</td>\n",
       "    </tr>\n",
       "    <tr>\n",
       "      <th>totalSentiment</th>\n",
       "      <td>-5.781645</td>\n",
       "    </tr>\n",
       "    <tr>\n",
       "      <th>meanSentiment</th>\n",
       "      <td>-1.927215</td>\n",
       "    </tr>\n",
       "  </tbody>\n",
       "</table>\n",
       "</div>"
      ],
      "text/plain": [
       "                                 TCC\n",
       "count                     100.000000\n",
       "positiveOccurrencesCount   11.000000\n",
       "neutralOccurrencesCount    25.000000\n",
       "negativeOccurrencesCount   64.000000\n",
       "positivePercentage          0.110000\n",
       "neutralPercentage           0.250000\n",
       "negativePercentage          0.640000\n",
       "totalSentiment             -5.781645\n",
       "meanSentiment              -1.927215"
      ]
     },
     "execution_count": 67,
     "metadata": {},
     "output_type": "execute_result"
    }
   ],
   "source": [
    "# guarda o resultado em um dataframa Pandas\n",
    "tcc_df = pd.DataFrame.from_dict(values, orient='index', columns=['TCC'])\n",
    "\n",
    "# Exibe os dados processados\n",
    "tcc_df"
   ]
  },
  {
   "cell_type": "markdown",
   "metadata": {},
   "source": [
    "## Etapa 2\n",
    "\n",
    "### Juntando os dados em uma tabela\n",
    "\n",
    "Agora que os dados foram coletados e processados, pode-se agrupá-los em uma tabela para facilitar a viusalização dos dados. Pode-se verificar que todas as buscas retornaram 100 resultados e todos foram devidamente processados pela LISA."
   ]
  },
  {
   "cell_type": "code",
   "execution_count": 68,
   "metadata": {},
   "outputs": [
    {
     "data": {
      "text/html": [
       "<div>\n",
       "<style scoped>\n",
       "    .dataframe tbody tr th:only-of-type {\n",
       "        vertical-align: middle;\n",
       "    }\n",
       "\n",
       "    .dataframe tbody tr th {\n",
       "        vertical-align: top;\n",
       "    }\n",
       "\n",
       "    .dataframe thead th {\n",
       "        text-align: right;\n",
       "    }\n",
       "</style>\n",
       "<table border=\"1\" class=\"dataframe\">\n",
       "  <thead>\n",
       "    <tr style=\"text-align: right;\">\n",
       "      <th></th>\n",
       "      <th>count</th>\n",
       "      <th>positiveOccurrencesCount</th>\n",
       "      <th>neutralOccurrencesCount</th>\n",
       "      <th>negativeOccurrencesCount</th>\n",
       "      <th>positivePercentage</th>\n",
       "      <th>neutralPercentage</th>\n",
       "      <th>negativePercentage</th>\n",
       "      <th>totalSentiment</th>\n",
       "      <th>meanSentiment</th>\n",
       "    </tr>\n",
       "  </thead>\n",
       "  <tbody>\n",
       "    <tr>\n",
       "      <th>Unicesumar</th>\n",
       "      <td>100.0</td>\n",
       "      <td>16.0</td>\n",
       "      <td>40.0</td>\n",
       "      <td>44.0</td>\n",
       "      <td>0.16</td>\n",
       "      <td>0.40</td>\n",
       "      <td>0.44</td>\n",
       "      <td>-6.528261</td>\n",
       "      <td>-2.176087</td>\n",
       "    </tr>\n",
       "    <tr>\n",
       "      <th>Faculdade</th>\n",
       "      <td>100.0</td>\n",
       "      <td>33.0</td>\n",
       "      <td>41.0</td>\n",
       "      <td>26.0</td>\n",
       "      <td>0.33</td>\n",
       "      <td>0.41</td>\n",
       "      <td>0.26</td>\n",
       "      <td>-0.079009</td>\n",
       "      <td>-0.026336</td>\n",
       "    </tr>\n",
       "    <tr>\n",
       "      <th>TCC</th>\n",
       "      <td>100.0</td>\n",
       "      <td>11.0</td>\n",
       "      <td>25.0</td>\n",
       "      <td>64.0</td>\n",
       "      <td>0.11</td>\n",
       "      <td>0.25</td>\n",
       "      <td>0.64</td>\n",
       "      <td>-5.781645</td>\n",
       "      <td>-1.927215</td>\n",
       "    </tr>\n",
       "  </tbody>\n",
       "</table>\n",
       "</div>"
      ],
      "text/plain": [
       "            count  positiveOccurrencesCount  neutralOccurrencesCount  \\\n",
       "Unicesumar  100.0                      16.0                     40.0   \n",
       "Faculdade   100.0                      33.0                     41.0   \n",
       "TCC         100.0                      11.0                     25.0   \n",
       "\n",
       "            negativeOccurrencesCount  positivePercentage  neutralPercentage  \\\n",
       "Unicesumar                      44.0                0.16               0.40   \n",
       "Faculdade                       26.0                0.33               0.41   \n",
       "TCC                             64.0                0.11               0.25   \n",
       "\n",
       "            negativePercentage  totalSentiment  meanSentiment  \n",
       "Unicesumar                0.44       -6.528261      -2.176087  \n",
       "Faculdade                 0.26       -0.079009      -0.026336  \n",
       "TCC                       0.64       -5.781645      -1.927215  "
      ]
     },
     "execution_count": 68,
     "metadata": {},
     "output_type": "execute_result"
    }
   ],
   "source": [
    "# Agrupa as tabelas\n",
    "frames = [\n",
    "    unicesumar_df.transpose(),\n",
    "    faculdade_df.transpose(),\n",
    "    tcc_df.transpose()\n",
    "]\n",
    "full_table = pd.concat(frames)\n",
    "\n",
    "# Exibe a tabela contendo todos os dados\n",
    "full_table"
   ]
  },
  {
   "cell_type": "markdown",
   "metadata": {},
   "source": [
    "## Comparação de ocorrências\n",
    "\n",
    "No gráfico e tabela gerado a seguir é exibido uma contagem de ocorrências de tweets com teor positivo, neutro e negativo para cada termo pesquisado.\n",
    "\n",
    "Para o termo \"Unicesumar\" pode-se verificar que a contagem de `post` negativos a respeito prevalece com 44% de ocorrências, mantendo 40% de neutralidade e apenas 16% de comentários positivos em relação ao objeto de pesquisa segundo os usuários do witter, certamente levando em consideração o recorte temporal que se refere ao momento no espaço-tempo utilizado para aquisição dos dados.\n",
    "\n",
    "O termo \"Faculdade\" de acordo com a análise, descreve maior neutralidade (41%) quanto aos comentários publicados na rede social, apresentando ainda uma maior taxa de publicações positivas (33%) do que negativas (26%).\n",
    "\n",
    "O termo \"TCC\" se mostra de acordo com os dados obtidos, como sendo objeto de maior estresse para os usuários, em decorrência da alta taxa de publicações avaliadas como negativas, apresentando valor acima da média (64%), mantendo assim como para o primeiro termo, uma quantidade de publicações positivas menor (11%) em comparação às publicações neutras (25%)."
   ]
  },
  {
   "cell_type": "code",
   "execution_count": 69,
   "metadata": {},
   "outputs": [
    {
     "data": {
      "image/png": "[encoded data removed]",
      "text/plain": [
       "<Figure size 432x288 with 1 Axes>"
      ]
     },
     "metadata": {
      "needs_background": "light"
     },
     "output_type": "display_data"
    },
    {
     "data": {
      "text/html": [
       "<div>\n",
       "<style scoped>\n",
       "    .dataframe tbody tr th:only-of-type {\n",
       "        vertical-align: middle;\n",
       "    }\n",
       "\n",
       "    .dataframe tbody tr th {\n",
       "        vertical-align: top;\n",
       "    }\n",
       "\n",
       "    .dataframe thead th {\n",
       "        text-align: right;\n",
       "    }\n",
       "</style>\n",
       "<table border=\"1\" class=\"dataframe\">\n",
       "  <thead>\n",
       "    <tr style=\"text-align: right;\">\n",
       "      <th></th>\n",
       "      <th>positiveOccurrencesCount</th>\n",
       "      <th>neutralOccurrencesCount</th>\n",
       "      <th>negativeOccurrencesCount</th>\n",
       "    </tr>\n",
       "  </thead>\n",
       "  <tbody>\n",
       "    <tr>\n",
       "      <th>Unicesumar</th>\n",
       "      <td>16.0</td>\n",
       "      <td>40.0</td>\n",
       "      <td>44.0</td>\n",
       "    </tr>\n",
       "    <tr>\n",
       "      <th>Faculdade</th>\n",
       "      <td>33.0</td>\n",
       "      <td>41.0</td>\n",
       "      <td>26.0</td>\n",
       "    </tr>\n",
       "    <tr>\n",
       "      <th>TCC</th>\n",
       "      <td>11.0</td>\n",
       "      <td>25.0</td>\n",
       "      <td>64.0</td>\n",
       "    </tr>\n",
       "  </tbody>\n",
       "</table>\n",
       "</div>"
      ],
      "text/plain": [
       "            positiveOccurrencesCount  neutralOccurrencesCount  \\\n",
       "Unicesumar                      16.0                     40.0   \n",
       "Faculdade                       33.0                     41.0   \n",
       "TCC                             11.0                     25.0   \n",
       "\n",
       "            negativeOccurrencesCount  \n",
       "Unicesumar                      44.0  \n",
       "Faculdade                       26.0  \n",
       "TCC                             64.0  "
      ]
     },
     "execution_count": 69,
     "metadata": {},
     "output_type": "execute_result"
    }
   ],
   "source": [
    "occurrences = full_table.filter(['positiveOccurrencesCount', 'neutralOccurrencesCount', 'negativeOccurrencesCount']).copy()\n",
    "occurrences.plot(kind='bar')\n",
    "plt.show()\n",
    "\n",
    "occurrences"
   ]
  },
  {
   "cell_type": "markdown",
   "metadata": {},
   "source": [
    "## Comparação da soma de sentimentos\n",
    "\n",
    "O sentimento total é a soma de todos os sentimentos dos 100 tweets do objeto de estudo, representando uma avaliação global perante todas as opiniões coletadas. Para este estudo de caso, particularmente neste recorte de tempo em que os dados foram coletados, o estudo revela que as opiniões públicas a respeito de todos os termos é **negativa**. Pode-se inferir que nesta data e neste momento, inúmeros alunos de faculdades (incluindo a Unicesumar) encontram-se de alguma forma \"frustrados\" com trabalho de conclusão de curso, levando consequentemente a um aumento na taxa de negatividade encontrada aos avaliar outros objetos relativos (como \"Faculdade\" e \"Unicesumar\").\n",
    "\n",
    "Por utro lado, o total de sentimento avaliado para o objeto de estudo \"Faculdade\" é relativamente inferior aos demais objetos de estudo, o que pode levar a ponderações como:\n",
    "\n",
    "**No momento da realização deste estudo**:\n",
    "\n",
    "- Os alunos da Unicesumar podem estar tendo dificuldade com seu TCC;\n",
    "- O trabalho de conclusão de curso na unicesumar pode estar exigindo demasiado esforço dos alunos;\n",
    "- Alunos de outras faculdades enfrentam menos problemas com TCC do que na Unicesumar;\n",
    "- Alunos que reprovam no TCC podem publicar textos negativos em relação à Unicesumar por terem falhado em seu TCC;\n",
    "\n",
    "Não pretende-se aqui concluir tais questões como verdadeiras, mas de maneira ingênua inferir na possibilidade da existência de tais relações."
   ]
  },
  {
   "cell_type": "code",
   "execution_count": 71,
   "metadata": {},
   "outputs": [
    {
     "data": {
      "image/png": "[encoded data removed]",
      "text/plain": [
       "<Figure size 432x288 with 1 Axes>"
      ]
     },
     "metadata": {
      "needs_background": "light"
     },
     "output_type": "display_data"
    },
    {
     "data": {
      "text/html": [
       "<div>\n",
       "<style scoped>\n",
       "    .dataframe tbody tr th:only-of-type {\n",
       "        vertical-align: middle;\n",
       "    }\n",
       "\n",
       "    .dataframe tbody tr th {\n",
       "        vertical-align: top;\n",
       "    }\n",
       "\n",
       "    .dataframe thead th {\n",
       "        text-align: right;\n",
       "    }\n",
       "</style>\n",
       "<table border=\"1\" class=\"dataframe\">\n",
       "  <thead>\n",
       "    <tr style=\"text-align: right;\">\n",
       "      <th></th>\n",
       "      <th>totalSentiment</th>\n",
       "    </tr>\n",
       "  </thead>\n",
       "  <tbody>\n",
       "    <tr>\n",
       "      <th>Unicesumar</th>\n",
       "      <td>-6.528261</td>\n",
       "    </tr>\n",
       "    <tr>\n",
       "      <th>Faculdade</th>\n",
       "      <td>-0.079009</td>\n",
       "    </tr>\n",
       "    <tr>\n",
       "      <th>TCC</th>\n",
       "      <td>-5.781645</td>\n",
       "    </tr>\n",
       "  </tbody>\n",
       "</table>\n",
       "</div>"
      ],
      "text/plain": [
       "            totalSentiment\n",
       "Unicesumar       -6.528261\n",
       "Faculdade        -0.079009\n",
       "TCC              -5.781645"
      ]
     },
     "execution_count": 71,
     "metadata": {},
     "output_type": "execute_result"
    }
   ],
   "source": [
    "total_sentiment = full_table.filter(['totalSentiment']).copy()\n",
    "total_sentiment.plot(kind='bar')\n",
    "plt.show()\n",
    "\n",
    "total_sentiment"
   ]
  },
  {
   "cell_type": "markdown",
   "metadata": {},
   "source": [
    "# Considerações Finais\n",
    "\n",
    "Este estudo demonstrou a facilidade e viabilidade de implementação de estudos de avaliação de dados através da opinião pública em relação à um ou mais determinados objetos de estudo. O estudo comprova a usabilidade da API de processamento de linguagem natural desenvolvido para o Trabalho de Conclusão de Curso da universidade Unicesumar, de forma que o serviço utilizado realizou devidamente a tarefa proposta em seu projeto de desenvolvimento, cujo contempla executar tarefas de PLN e extração de sentimentos em texto através da internet, não sendo necessário a implementação do código-fonte nem inclusão de módulos e bibliotecas dedicados à este processamento.\n",
    "\n",
    "Propõe-se neste momento ideias para trabalhos futuros a partir deste estudo:\n",
    "\n",
    "- Análise em tempo real de trends ou termos buscados através das ferramentas de streaming da API do Twitter;\n",
    "- Monitoramento periódico de um objeto de estudo, mineirando maior quantidade de dados em um recorte temporal relativamente extendido, possibilitando:\n",
    "    + Visualizar momentos de mutabilidade, ascensção e queda das features em uma linha do tempo;\n",
    "    + Maior assertividade quanto a veracidade das inferências;\n"
   ]
  },
  {
   "cell_type": "markdown",
   "metadata": {},
   "source": [
    "# Referências\n",
    "\n",
    "CARLI, Bruno Luvizotto. LISA: Lexical Interface fo Sentiment Analysis. In: CARLI, Bruno Luvizotto. LISA: Lexical Interface for Sentiment Analysis. 0.2.5. Online, 2020. Disponível em: https://github.com/brunolcarli/Lisa. Acesso em: 14 maio 2020.\n",
    "\n",
    "HUNTER, John D. Matplotlib: A 2D graphics environment. Computing in science & engineering. In: HUNTER, John D. Matplotlib: A 2D graphics environment. Computing in science & engineering. 3.2.1. Online: IEEE, 2007. Disponível em: https://matplotlib.org/. Acesso em: 14 maio 2020.\n",
    "\n",
    "MCKINNEY, Wes et al. Pandas: Data structures for statistical computing in python. In: MCKINNEY, Wes. Pandas: Data structures for statistical computing in python. 1.0.3. Online, 2010. Disponível em: https://pandas.pydata.org/. Acesso em: 14 maio 2020.\n",
    "\n",
    "ROESSLEIN, Joshua. Tweepy: Twitter for Python!. In: ROESSLEIN, Joshua. Tweepy: Twitter for Python!. 3.8.0. Online, 2020. Disponível em: https://github.com/tweepy/tweepy. Acesso em: 14 maio 2020.\n"
   ]
  }
 ],
 "metadata": {
  "kernelspec": {
   "display_name": "Python 3",
   "language": "python",
   "name": "python3"
  },
  "language_info": {
   "codemirror_mode": {
    "name": "ipython",
    "version": 3
   },
   "file_extension": ".py",
   "mimetype": "text/x-python",
   "name": "python",
   "nbconvert_exporter": "python",
   "pygments_lexer": "ipython3",
   "version": "3.6.5"
  }
 },
 "nbformat": 4,
 "nbformat_minor": 2
}
